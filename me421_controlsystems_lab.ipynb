{
  "nbformat": 4,
  "nbformat_minor": 0,
  "metadata": {
    "colab": {
      "provenance": [],
      "include_colab_link": true
    },
    "kernelspec": {
      "name": "python3",
      "display_name": "Python 3"
    },
    "language_info": {
      "name": "python"
    }
  },
  "cells": [
    {
      "cell_type": "markdown",
      "metadata": {
        "id": "view-in-github",
        "colab_type": "text"
      },
      "source": [
        "<a href=\"https://colab.research.google.com/github/harshaperera97/Rankine-LC/blob/main/me421_controlsystems_lab.ipynb\" target=\"_parent\"><img src=\"https://colab.research.google.com/assets/colab-badge.svg\" alt=\"Open In Colab\"/></a>"
      ]
    },
    {
      "cell_type": "markdown",
      "source": [
        "#Instructions"
      ],
      "metadata": {
        "id": "tjwc7ZikCWjn"
      }
    },
    {
      "cell_type": "markdown",
      "source": [
        "* This is a group assignment. Complete the activities in groups that were assigned for ME421 for the vibrations lab.\n",
        "\n",
        "* Make a copy of this and save it in your group github group repository.\n",
        "\n",
        "* Do all your work, EXCLUSIVELY, in that saved notebook. Your github commits will serve as a refelection of your individual contributions. It will constitute 25% of your final grade for the lab.\n",
        "\n",
        "* Complete Tasks#1 and Task#2 by 5:00PM on 14/06/2023\n",
        "\n",
        "* Complete Tasks#3 and the Task#4 by 5:00PM on 21/06/2023 and demonstrate the work in the class on 21/06/2023.\n",
        "\n",
        "* Complete Task#5 by 5:00PM on 28/06/2023."
      ],
      "metadata": {
        "id": "pOeY40kCCZIY"
      }
    },
    {
      "cell_type": "markdown",
      "source": [
        "#References"
      ],
      "metadata": {
        "id": "xQxmvsoX2wtl"
      }
    },
    {
      "cell_type": "markdown",
      "source": [
        "* https://colab.research.google.com/github/mugalan/classical-mechanics-from-a-geometric-point-of-view/blob/main/rigid-body-control/Mugas_Rigid_Body_Control.ipynb\n",
        "\n",
        "* https://github.com/mugalan/classical-mechanics-from-a-geometric-point-of-view/blob/main/rigid-body-control/MaithriPalaDHS_RigidBodyPIDControl_IITB_18_03_2023.pdf"
      ],
      "metadata": {
        "id": "N2PYkHmG2y9o"
      }
    },
    {
      "cell_type": "markdown",
      "source": [
        "#Task#1"
      ],
      "metadata": {
        "id": "JhWYC6Kv2l4k"
      }
    },
    {
      "cell_type": "markdown",
      "metadata": {
        "id": "GjPELOm2sJQg"
      },
      "source": [
        "Conside a rigid body moving in space. Let $\\mathbf{b}$ be a body fixed frame with the origin coinciding with that of the center of mass of the body, $M$ be the tatal mass of the body, $\\mathbb{I}$ be the inertia tensor of the body with respect to the body frame $\\mathbf{b}$, $f^e$ be the resultant total external interactions acting on the particles of the body, and $\\tau^e$ be the total resultant of the moments of the external interactions about the center of mass of the body.\n",
        "\n",
        "Show that a general rigid body is descibed by the following simple equations in an inertial frame $\\mathbf{e}$ where the moments are taken about the center of mass of the rigid body."
      ]
    },
    {
      "cell_type": "markdown",
      "metadata": {
        "id": "2FFWl8Whs8HJ"
      },
      "source": [
        "\\begin{align}\n",
        "\\dot{o}&=\\frac{1}{M}p\\\\\n",
        "\\dot{R}&=\\widehat{\\omega}R,\\\\\n",
        "\\dot{p}&=f^e+f^u,\\\\\n",
        "\\dot{\\pi}&=\\tau^e+\\tau^u,\n",
        "\\end{align}\n",
        "where\n",
        "\\begin{align}\n",
        "\\omega &=(\\mathbb{I}_c^R)^{-1}\\pi,\n",
        "\\end{align}\n",
        "Here we have split the force and control moments into unmanipulatable and manipulatable (control) part. The manipulatable (control) part will be denoted by a superscript $u$."
      ]
    },
    {
      "cell_type": "markdown",
      "source": [
        "#Answer"
      ],
      "metadata": {
        "id": "r2xvLl57HnmO"
      }
    },
    {
      "cell_type": "markdown",
      "source": [
        "To derive the equation $\\dot{o} = \\frac{1}{M}p$, we will start by considering the principles of mechanics for a rigid body in motion.\n",
        "\n",
        "Newton's second law states that the rate of change of momentum of an object is equal to the net force acting on it. In vector form, this law can be expressed as:\n",
        "\n",
        "\\begin{equation}\n",
        "\\frac{d\\mathbf{p}}{dt} = \\sum \\mathbf{F},\n",
        "\\end{equation}\n",
        "\n",
        "where $\\frac{d\\mathbf{p}}{dt}$ is the derivative of the momentum vector $\\mathbf{p}$ with respect to time, and $\\sum \\mathbf{F}$ represents the sum of all external forces acting on the body.\n",
        "\n",
        "For a rigid body, the total linear momentum $\\mathbf{p}$ is the sum of the linear momenta of all particles in the body. Mathematically, it can be written as:\n",
        "\n",
        "\\begin{equation}\n",
        "\\mathbf{p} = \\sum m_i \\mathbf{v}_i,\n",
        "\\end{equation}\n",
        "\n",
        "where $m_i$ is the mass of the $i$-th particle, and $\\mathbf{v}_i$ is its velocity.\n",
        "\n",
        "The center of mass of a rigid body can be defined as the weighted average of the positions of all particles, where the weights are given by the masses of the particles. Mathematically, it can be expressed as:\n",
        "\n",
        "\\begin{equation}\n",
        "\\mathbf{o} = \\frac{1}{M} \\sum m_i \\mathbf{r}_i,\n",
        "\\end{equation}\n",
        "\n",
        "where $\\mathbf{o}$ is the position vector of the center of mass, $\\mathbf{r}_i$ is the position vector of the $i$-th particle, and $M$ is the total mass of the body given by $M = \\sum m_i$.\n",
        "\n",
        "Now, let's differentiate the equation for the center of mass position with respect to time to find its rate of change:\n",
        "\n",
        "\\begin{align}\n",
        "\\dot{\\mathbf{o}} &= \\frac{d}{dt} \\left( \\frac{1}{M} \\sum m_i \\mathbf{r}_i \\right) \\\n",
        "&= \\frac{1}{M} \\sum m_i \\frac{d\\mathbf{r}_i}{dt} \\\n",
        "&= \\frac{1}{M} \\sum m_i \\mathbf{v}_i \\\n",
        "&= \\frac{1}{M} \\mathbf{p}.\n",
        "\\end{align}\n",
        "\n",
        "In the third step, we used the fact that the derivative of the position vector with respect to time gives the velocity vector, so $\\frac{d\\mathbf{r}_i}{dt} = \\mathbf{v}_i$.\n",
        "\n",
        "Thus, we have derived the equation $\\dot{\\mathbf{o}} = \\frac{1}{M} \\mathbf{p}$, which shows that the rate of change of the center of mass position is equal to the total linear momentum divided by the total mass of the body.\n",
        "\n",
        "This equation is an important result in rigid body dynamics as it relates the motion of the center of mass to the total linear momentum of the body. It implies that the center of mass moves with a velocity proportional to the total linear momentum and inversely proportional to the total mass.\n",
        "\n",
        "In the given set of equations, $\\dot{o} = \\frac{1}{M}p$ represents the translation of the center of mass. The other equations describe the rotational motion of the body.\n",
        "\n",
        "The equation $\\dot{R} = \\widehat{\\omega}R$ represents the time derivative of the rotation matrix $R$ that represents the orientation of the body-fixed frame with respect to the inertial frame. Here, $\\widehat{\\omega}$ is the skew-symmetric matrix formed from the angular velocity vector $\\omega$, defined as $\\omega = (\\mathbb{I}_c^R)^{-1}\\pi$. The matrix $\\widehat{\\omega}$ relates the time derivative of the rotation matrix to the angular velocity.\n",
        "\n",
        "The equation $\\dot{p} = f^e + f^u$ represents the time derivative of the linear momentum $p$ of the body, taking into account both the resultant external interactions $f^e$ and the manipulatable (control) force $f^u$.\n",
        "\n",
        "Similarly, the equation $\\dot{\\pi} = \\tau^e + \\tau^u$ represents the time derivative of the angular momentum $\\pi$ of the body, considering both the resultant moments of the external interactions $\\tau^e$ and the manipulatable (control) moments $\\tau^u$.\n"
      ],
      "metadata": {
        "id": "M_748lsEIiMU"
      }
    },
    {
      "cell_type": "markdown",
      "source": [
        "#Task#2"
      ],
      "metadata": {
        "id": "PT5T8y9-3h1H"
      }
    },
    {
      "cell_type": "markdown",
      "source": [
        "Simulate the motion of a quadrotor UAV without resorting any parameterization of $SO(3)$ such as Euler angles or quaternions."
      ],
      "metadata": {
        "id": "C71RvOL1_kA_"
      }
    },
    {
      "cell_type": "markdown",
      "source": [
        "\n",
        "The quadrotor's motion and behavior in the simulation are influenced by the forces and moments generated by the rotors. These forces and moments are determined by the control inputs, which are the motor speeds denoted as $w1, w2, w3,\\ and\\ w4$.\n",
        "\n",
        "To accurately simulate the quadrotor's motion, several physical parameters need to be defined:\n",
        "\n",
        "Mass ($m$): This parameter represents the total weight of the quadrotor and is typically measured in kilograms (kg).\n",
        "\n",
        "Gravity ($g$): Gravity represents the acceleration due to gravity and affects the quadrotor's vertical motion. It is typically measured in meters per second squared $(m/s^2)$.\n",
        "\n",
        "Thrust factor ($kF$): The thrust factor relates the motor speed or thrust generated by the rotors to the actual force produced. It is specific to the quadrotor's propellers and is usually determined through experimentation.\n",
        "\n",
        "Moment arm ($L$): The moment arm is the distance between the center of mass of the quadrotor and the rotor axis. It is used to calculate the moments generated by the rotors."
      ],
      "metadata": {
        "id": "QlZqHdb3_dw6"
      }
    },
    {
      "cell_type": "code",
      "source": [
        "import math\n",
        "import numpy as np\n",
        "from numpy import linalg\n",
        "from scipy.integrate import odeint\n",
        "import plotly.graph_objects as go\n",
        "\n",
        "from sympy import symbols\n",
        "from sympy import *\n",
        "\n",
        "from sympy.physics.mechanics import dynamicsymbols, init_vprinting\n"
      ],
      "metadata": {
        "id": "OpBxC1fB8Wmm"
      },
      "execution_count": null,
      "outputs": []
    },
    {
      "cell_type": "code",
      "source": [
        "class mugas_rigid_body_functions:\n",
        "\n",
        "  def __init__(self):\n",
        "    self=[];\n",
        "\n",
        "  def simulateDySystem(self, dynamicSystemModel, Tmax, dT, X0, sysPara, figTitle, xLabel, yLabel):\n",
        "    t = np.linspace(0, Tmax, int(Tmax/dT+1))\n",
        "    sol = odeint(dynamicSystemModel, X0, t, args=(sysPara,));\n",
        "    self.soln=sol;\n",
        "    fig = go.Figure()\n",
        "    [nt,nS]=sol.shape;\n",
        "\n",
        "    # Add traces\n",
        "    for nn in range(nS):\n",
        "      fig.add_trace(go.Scatter(x=t, y=sol[:,nn], mode='lines+markers', name='x'+str(nn+1)))\n",
        "      fig.update_layout(title=figTitle, xaxis=dict(title=xLabel),yaxis=dict(title=yLabel))\n",
        "\n",
        "    fig.show()\n",
        "    return [t,sol,fig]\n",
        "\n",
        "  def hatMatrix(self, X):\n",
        "    return np.array([[0., -X[2], X[1]],[X[2], 0., -X[0]],[-X[1], X[0], 0.]])\n",
        "\n",
        "  def qFromAxisAngles(self, theta, unitAxis):\n",
        "    return np.concatenate(([np.cos(theta/2)],np.sin(theta/2)*np.array(unitAxis)))\n",
        "\n",
        "  def RfromQuaternions(self,q):\n",
        "    q0=q[0]; w=q[1:];\n",
        "    R=np.identity(3)+2*q0*self.hatMatrix(w)+2*self.hatMatrix(w) @ self.hatMatrix(w);\n",
        "    return R\n",
        "\n",
        "  def rotationMatrix2EulerAngles(self,R):\n",
        "    if R[2,2] <1:\n",
        "      if R[2,2] > -1:\n",
        "        theta2=math.acos(R[2,2]);\n",
        "        theta1=math.atan2(R[0,2],R[1,2]);\n",
        "        theta3=math.atan2(R[2,0],-R[2,1]);\n",
        "      else: #R[2,2]=-1 No Unique solution\n",
        "        theta2=np.pi;\n",
        "        theta1=-math.atan2(R[0,1],-R[0,0]);\n",
        "        theta3=0;\n",
        "    else: # R[2,2] = +1 No Unique solution\n",
        "      theta2 = 0;\n",
        "      theta1 = math.atan2(R[0,1],R[0,0]) ;\n",
        "      theta3 = 0;\n",
        "    return [np.pi-theta1,theta2,np.pi-theta3]\n",
        "\n",
        "  def Re3equalsgamma(self,gamma):\n",
        "    theta=math.acos(gamma[2]);\n",
        "    n1=-gamma[1]/np.sin(theta);\n",
        "    n2=gamma[0]/np.sin(theta);\n",
        "    q00=self.qFromAxisAngles(theta,[n1,n2,0]);\n",
        "\n",
        "    return self.RfromQuaternions(q00)\n",
        "\n",
        "  def rotate_and_translate(self,objectVertices,R,b):\n",
        "    #object vertices should be given as an numpy array of shape (3,n)\n",
        "    #Ex - X=[0, 0, 2, 2, 0, 0, 2, 2], Y=[0, 2, 2, 0, 0, 2, 2, 0], Z=[0, 0, 0, 0, 1, 1, 1, 1]; objectVertices=[X,Y,Z]\n",
        "    return np.array([[b[0],b[1],b[2]]]).T + R @ objectVertices\n",
        "\n",
        "\n",
        "\n",
        "  def addOrthNormFrame(self, fig, o, R, axisRange, axisColor):\n",
        "    e1=[1,0,0]; e2=[0,1,0]; e3=[0,0,1];\n",
        "    b1=R @ e1; b2=R @ e2; b3=R @ e3;\n",
        "    fig.add_trace(go.Scatter3d(x=[str(o[0]),str(o[0]+b1[0])], y=[str(o[1]),str(o[1]+b1[1])], z=[str(o[2]),str(o[2]+b1[2])], hoverinfo='x+y+z', mode='lines', line=dict(width=8, color=axisColor)))\n",
        "    fig.add_trace(go.Scatter3d(x=[str(o[0]),str(o[0]+b2[0])], y=[str(o[1]),str(o[1]+b2[1])], z=[str(o[2]),str(o[2]+b2[2])], hoverinfo='x+y+z', mode='lines', line=dict(width=8, color=axisColor)))\n",
        "    fig.add_trace(go.Scatter3d(x=[str(o[0]),str(o[0]+b3[0])], y=[str(o[1]),str(o[1]+b3[1])], z=[str(o[2]),str(o[2]+b3[2])], hoverinfo='x+y+z', mode='lines', line=dict(width=8, color=axisColor)))\n",
        "    fig.update_layout(showlegend=False, scene=dict(xaxis=dict(range=axisRange[0], autorange=False), yaxis=dict(range=axisRange[1], autorange=False), zaxis=dict(range=axisRange[2], autorange=False), aspectratio=dict(x=1, y=1, z=1)))\n",
        "    return fig\n",
        "\n",
        "  def cube_vertices(self,cubeDimensions):\n",
        "    l=cubeDimensions['l']; w=cubeDimensions['w']; h=cubeDimensions['h'];\n",
        "    xp=cubeDimensions['xp']; yp=cubeDimensions['yp']; zp=cubeDimensions['zp'];\n",
        "    #X=[0, 0, l, l, 0, 0, l, l]; Y=[0, w, w, 0, 0, w, w, 0]; Z=[0, 0, 0, 0, h, h, h, h]; XX=[X,Y,Z];\n",
        "    X=[-xp, -xp, l-xp, l-xp, -xp, -xp, l-xp, l-xp]; Y=[-yp, w-yp, w-yp, -yp, -yp, w-yp, w-yp, -yp]; Z=[-zp, -zp, -zp, -zp, h-zp, h-zp, h-zp, h-zp]; XX=[X,Y,Z];\n",
        "    #X=[-l, -l, l, l, -l, -l, l, l]; Y=[-w, w, w, -w, -w, w, w, -w]; Z=[-h, -h, -h, -h, h, h, h, h]; XX=[X,Y,Z];\n",
        "    return XX\n",
        "\n",
        "\n",
        "  def animate_particle_motion(self, XX, axisRange, figTitle):\n",
        "    xx=[jj[0] for jj in XX]\n",
        "    yy=[jj[1] for jj in XX]\n",
        "    zz=[jj[2] for jj in XX]\n",
        "\n",
        "    fig = go.Figure(\n",
        "        data=[go.Scatter3d(x=[xx[0]], y=[yy[0]],z=[zz[0]],\n",
        "                        mode=\"markers\",\n",
        "                        marker=dict(color=\"red\", size=10)),\n",
        "              go.Scatter3d(x=xx, y=yy,z=zz, name='Path',\n",
        "                        mode=\"lines\",\n",
        "                        line=dict(color=\"blue\", width=2))],\n",
        "        layout=go.Layout(\n",
        "            scene = dict(\n",
        "                        xaxis=dict(range=axisRange[0], autorange=False),\n",
        "                        yaxis=dict(range=axisRange[1], autorange=False),\n",
        "                        zaxis=dict(range=axisRange[2], autorange=False),\n",
        "                        aspectratio=dict(x=1, y=1, z=1),\n",
        "            ),\n",
        "            title_text=figTitle, hovermode=\"closest\",\n",
        "            updatemenus=[dict(type=\"buttons\",\n",
        "                              buttons=[dict(label=\"Play\",\n",
        "                                            method=\"animate\",\n",
        "                                            args=[None])])]),\n",
        "        frames=[go.Frame(\n",
        "            data=[go.Scatter3d(\n",
        "                x=[p[0]],\n",
        "                y=[p[1]],\n",
        "                z=[p[2]],\n",
        "                name='Particle',\n",
        "                mode=\"markers\",\n",
        "                marker=dict(color=\"red\", size=10))])\n",
        "\n",
        "            for p in XX]\n",
        "    )\n",
        "\n",
        "    fig.show()\n",
        "    return fig\n",
        "\n",
        "  def animated_cube_flat_shading(self, cubeVertices,figTitle):\n",
        "    fig = go.Figure(\n",
        "        frames=[go.Frame(data=[\n",
        "          go.Mesh3d(\n",
        "            # 8 vertices of a cube\n",
        "            x=xx[0][0],\n",
        "            y=xx[0][1],\n",
        "            z=xx[0][2],\n",
        "            # i, j and k give the vertices of triangles\n",
        "            i = [7, 0, 0, 0, 4, 4, 6, 6, 4, 0, 3, 2],\n",
        "            j = [3, 4, 1, 2, 5, 6, 5, 2, 0, 1, 6, 3],\n",
        "            k = [0, 7, 2, 3, 6, 7, 1, 1, 5, 5, 7, 6],\n",
        "            name='y',\n",
        "            opacity=0.6,\n",
        "            color='#DC143C',\n",
        "            flatshading = True)]) for xx in cubeVertices])\n",
        "\n",
        "    fig.add_trace(go.Mesh3d(\n",
        "            # 8 vertices of a cube\n",
        "            x=cubeVertices[0][0][0],\n",
        "            y=cubeVertices[0][0][1],\n",
        "            z=cubeVertices[0][0][2],\n",
        "            # i, j and k give the vertices of triangles\n",
        "            i = [7, 0, 0, 0, 4, 4, 6, 6, 4, 0, 3, 2],\n",
        "            j = [3, 4, 1, 2, 5, 6, 5, 2, 0, 1, 6, 3],\n",
        "            k = [0, 7, 2, 3, 6, 7, 1, 1, 5, 5, 7, 6],\n",
        "            name='y',\n",
        "            opacity=0.6,\n",
        "            color='#DC143C',\n",
        "            flatshading = True)\n",
        "        )\n",
        "    duration=10;\n",
        "    fig.update_layout(\n",
        "          title=figTitle,\n",
        "          width=1200,\n",
        "          height=1200,\n",
        "          scene=dict(\n",
        "                      xaxis=dict(range=[-5., 10.], autorange=False),\n",
        "                      yaxis=dict(range=[-5., 10.], autorange=False),\n",
        "                      zaxis=dict(range=[-5., 10.], autorange=False),\n",
        "                      aspectratio=dict(x=1, y=1, z=1),\n",
        "                      ),\n",
        "          updatemenus=[\n",
        "    dict(\n",
        "        type=\"buttons\",\n",
        "        buttons=[\n",
        "            dict(\n",
        "                label=\"Play\",\n",
        "                method=\"animate\",\n",
        "                args=[\n",
        "                    None,\n",
        "                    {\n",
        "                        \"frame\": {\"duration\": duration},\n",
        "                        \"mode\": \"immediate\",\n",
        "                        \"fromcurrent\": True,\n",
        "                        \"transition\": {\"duration\": duration, \"easing\": \"linear\"},\n",
        "                    }\n",
        "                ]\n",
        "            ),\n",
        "            dict(\n",
        "                label=\"Pause\",\n",
        "                method=\"animate\",\n",
        "                args=[\n",
        "                    None,\n",
        "                    {\n",
        "                        \"frame\": {\"duration\": 0},\n",
        "                        \"mode\": \"immediate\",\n",
        "                        \"fromcurrent\": True,\n",
        "                        \"transition\": {\"duration\": 0},\n",
        "                    }\n",
        "                ]\n",
        "            )\n",
        "        ]\n",
        "    )\n",
        "])\n",
        "    len(fig.frames)\n",
        "    fig.show()\n",
        "    return fig\n",
        "\n",
        "  def simulating_a_cube(self, dt, Tmax, cubeDimensions, parameters,ICs):\n",
        "    XX=self.cube_vertices(cubeDimensions);\n",
        "\n",
        "    #Xs=self.eulers_method(dt,Tmax,parameters,ICs);\n",
        "    Xs=self.runga_kutta_method(dt,Tmax,parameters,ICs);\n",
        "    ICR=ICs[0][0];\n",
        "    XX0=ICR @ XX;\n",
        "\n",
        "    rotatedVertices=[[XX0]]\n",
        "    for X in Xs:\n",
        "      #print(X[0])\n",
        "      R=X[0][0];\n",
        "      o=X[0][1];\n",
        "      XXi=self.rotate_and_translate(XX,R,o);\n",
        "      XX0=XXi;\n",
        "      rotatedVertices+=[[XX0]];\n",
        "    return rotatedVertices\n",
        "\n",
        "\n",
        "  def eulers_method(self, dt,Tmax,parameters,ICs):\n",
        "    M=parameters['M']; II=parameters['II'];\n",
        "    invII=linalg.inv(II) ;\n",
        "    timeSteps=np.arange(0,Tmax+dt,dt);\n",
        "    R=ICs[0][0]; o=ICs[0][1];\n",
        "    omega=ICs[1]; doto=ICs[2]; Xc=ICs[3];\n",
        "    X=ICs;\n",
        "    spi=R@II@R.T@omega; p=M*doto;\n",
        "    Xout=[X];\n",
        "    for t in timeSteps:\n",
        "      [taue,fe]=externalForceModel(self, parameters,X);\n",
        "      [taua,fa]=actuator(self, parameters, t, X,taue,fe);\n",
        "\n",
        "      dspi=taue+taua;\n",
        "      dp=fe+fa;\n",
        "      #dXc=controller_dynamics(self, t,X,taue,fe,parameters)\n",
        "\n",
        "      if linalg.norm(omega)>=0.0001:\n",
        "        nomega=omega/linalg.norm(omega);\n",
        "        thetaomegat=dt*linalg.norm(omega);\n",
        "      else:\n",
        "        nomega=np.array([0,0,0]);\n",
        "        thetaomegat=0;\n",
        "      qomegat=np.concatenate(([np.cos(thetaomegat/2)],np.sin(thetaomegat/2)*nomega));\n",
        "      R=self.RfromQuaternions(qomegat) @ R;\n",
        "      o=o+dt*doto;\n",
        "      spi=spi+dt*dspi;\n",
        "      p=p+dt*dp;\n",
        "      doto=p/M;\n",
        "      omega=R @ invII @ R.T @ spi;\n",
        "      Xc=Xc#+dt*dXc;\n",
        "      X=[[R,o],omega,doto, Xc];\n",
        "      Xout+=[X]\n",
        "\n",
        "    return Xout\n",
        "\n",
        "  def runga_kutta_method(self, dt,Tmax,parameters,ICs):\n",
        "    M=parameters['M']; II=parameters['II'];\n",
        "    invII=linalg.inv(II) ;\n",
        "    timeSteps=np.arange(0,Tmax+dt,dt);\n",
        "    R=ICs[0][0]; o=ICs[0][1];\n",
        "    omega=ICs[1]; doto=ICs[2]; Xc=ICs[3];\n",
        "    X=ICs;\n",
        "    spi=R@II@R.T@omega; p=M*doto;\n",
        "    Xout=[X];\n",
        "    for t in timeSteps:\n",
        "      Y1=self.rk4_function(0.5*dt, X, t, X, parameters);\n",
        "      Y2=self.rk4_function(0.5*dt, X, t+0.5*dt, Y1, parameters);\n",
        "      Y3=self.rk4_function(dt, X, t+0.5*dt, Y2, parameters);\n",
        "\n",
        "      [thetaomega1,nomega1,doto1,dp1,dspi1,dXc1]=self.rigid_body_system(parameters, t, X);\n",
        "      [thetaomega2,nomega2,doto2,dp2,dspi2,dXc2]=self.rigid_body_system(parameters, t+0.5*dt, Y1);\n",
        "      [thetaomega3,nomega3,doto3,dp3,dspi3,dXc3]=self.rigid_body_system(parameters, t+0.5*dt, Y2);\n",
        "      [thetaomega4,nomega4,doto4,dp4,dspi4,dXc4]=self.rigid_body_system(parameters, t+dt, Y3);\n",
        "      omegak=(dt/6.0)*(thetaomega1*nomega1+2*thetaomega2*nomega2+2*thetaomega3*nomega3+thetaomega4*nomega4)\n",
        "      if linalg.norm(omegak)>=0.0001:\n",
        "        nomegak=omegak/linalg.norm(omegak);\n",
        "        thetaomegak=linalg.norm(omegak);\n",
        "      else:\n",
        "        nomegak=np.array([0,0,0]);\n",
        "        thetaomegak=0;\n",
        "      qomegak=np.concatenate(([np.cos(thetaomegak/2)],np.sin(thetaomegak/2)*nomegak));\n",
        "      Rk=self.RfromQuaternions(qomegak) @ X[0][0];\n",
        "\n",
        "      dotoko=(dt/6.0)*(doto1+2*doto2+2*doto3+doto4);\n",
        "      dpk=(dt/6.0)*(dp1+2*dp2+2*dp3+dp4);\n",
        "      dspik=(dt/6.0)*(dspi1+2*dspi2+2*dspi3+dspi4);\n",
        "      dXck=(dt/6.0)*(dXc1+2*dXc2+2*dXc3+dXc4);\n",
        "\n",
        "      ok=X[0][1]+dotoko;\n",
        "      spik=X[0][0]@II@X[0][0].T@X[1]+dspik;\n",
        "      dotok=X[2]+dpk/M;\n",
        "      Xck=X[3]+dXck;\n",
        "      omegak=Rk @ linalg.inv(II) @ Rk.T @ spik;\n",
        "\n",
        "      X=[[Rk,ok],omegak,dotok,Xck];\n",
        "      Xout+=[X]\n",
        "    return Xout\n",
        "\n",
        "  def rk4_function(self, dtk, X, tk, Xk, parameters):\n",
        "    M=parameters['M']; II=parameters['II'];\n",
        "    [thetaomega1,nomega1,doto1,dp1,dspi1,dXc1]=self.rigid_body_system(parameters, tk, Xk)\n",
        "    qomega1=np.concatenate(([np.cos(dtk*thetaomega1/2)],np.sin(dtk*thetaomega1/2)*nomega1));\n",
        "    R1=self.RfromQuaternions(qomega1)@X[0][0];\n",
        "    spi1=X[0][0]@II@X[0][0].T@X[1]+dtk*dspi1; omega1=R1@linalg.inv(parameters['II'])@R1.T@spi1;\n",
        "    X1=[[R1, X[0][1]+dtk*doto1],omega1,X[2]+dtk*dp1/M, X[3]+dtk*dXc1]\n",
        "    return X1\n",
        "\n",
        "  def rigid_body_system(self, parameters, t, X):\n",
        "    [taue,fe]=externalForceModel(self, parameters,X);\n",
        "    [taua,fa]=actuator(self, parameters, t, X,taue,fe);\n",
        "    dspi=taue+taua;\n",
        "    dp=fe+fa;\n",
        "    dXc=np.array([0,0,0]); #controller_dynamics(self,t,X,taue,fe,parameters)\n",
        "    omega=X[1]; doto=X[2]\n",
        "    if linalg.norm(omega)>=0.0001:\n",
        "      nomega=omega/linalg.norm(omega);\n",
        "      thetaomega=linalg.norm(omega);\n",
        "    else:\n",
        "      nomega=np.array([0,0,0]);\n",
        "      thetaomega=0;\n",
        "    return [thetaomega,nomega,doto,dp,dspi,dXc]\n"
      ],
      "metadata": {
        "id": "TyjLXgqi8pT4"
      },
      "execution_count": null,
      "outputs": []
    },
    {
      "cell_type": "code",
      "source": [
        "mr=mugas_rigid_body_functions()\n"
      ],
      "metadata": {
        "id": "icz8cWqU8xZ0"
      },
      "execution_count": null,
      "outputs": []
    },
    {
      "cell_type": "code",
      "source": [
        "import numpy as np\n",
        "\n",
        "# Define the rotation angle in radians\n",
        "theta = np.pi/4  # Example: 45 degrees\n",
        "\n",
        "# Create the rotation matrix\n",
        "R = np.array([[np.cos(theta), -np.sin(theta), 0],\n",
        "              [np.sin(theta), np.cos(theta),  0],\n",
        "              [0,             0,              1]])\n",
        "\n",
        "# Print the rotation matrix\n",
        "print(R)\n"
      ],
      "metadata": {
        "id": "-WJLAClL-zxk"
      },
      "execution_count": null,
      "outputs": []
    },
    {
      "cell_type": "code",
      "source": [
        "# Define control inputs (motor speeds or thrust values)\n",
        "w1 = 0.8  # Motor speed for rotor 1\n",
        "w2 = 0.6  # Motor speed for rotor 2\n",
        "w3 = 0.7  # Motor speed for rotor 3\n",
        "w4 = 0.9  # Motor speed for rotor 4\n"
      ],
      "metadata": {
        "id": "-EyuyqgY-70U"
      },
      "execution_count": null,
      "outputs": []
    },
    {
      "cell_type": "markdown",
      "source": [
        "\n",
        "$*$The linear acceleration of the quadrotor is influenced by two main factors: the gravitational force and the thrust generated by the rotors. The equation that describes the linear acceleration is as follows:\n",
        "Certainly! Here's the equation in LaTeX format:\n",
        "\n",
        "$[\n",
        "m \\cdot \\frac{{d^2\\mathbf{r}}}{{dt^2}} = m \\cdot \\mathbf{g} - kF \\cdot (w_1^2 + w_2^2 + w_3^2 + w_4^2)\n",
        "]$ \\\\\n",
        "note that in the equation, \\\\\n",
        " $*$ $(\\mathbf{r})$ = represents the position vector, \\\\\n",
        "$*$ $(\\mathbf{g})$ = represents the acceleration due to gravity. \\\\\n",
        "$*$ $(w_1), (w_2), (w_3), and (w_4)$ = indicate the motor speeds or thrust inputs. \\\\\n",
        "$*$ $m$ represents the mass of the quadrotor. \\\\\n",
        "$*$ ($d^2r/dt^2$) = represents the second derivative of the position vector with respect to time, which denotes the linear acceleration. \\\\\n",
        "$*$ $g$ = represents the acceleration due to gravity. \\\\\n",
        "$*$ $kF$= is the thrust factor,( which relates the motor speed or thrust to the actual force produced by the rotors.) \\\\\n",
        "$*$ $w1, w2, w3, \\ and\\ w4$ = the motor speeds or thrust inputs. \\\\\n"
      ],
      "metadata": {
        "id": "Y3bcm2vMAkl8"
      }
    },
    {
      "cell_type": "code",
      "source": [
        "import numpy as np\n",
        "g = 9.81  # Acceleration due to gravity in m/s^2\n",
        "m = 1.5  # Mass of the quadrotor in kg\n",
        "kF = 0.5  # Thrust factor of the quadrotor\n",
        "L = 0.2  # Moment arm of the quadrotor in meters\n",
        "\n",
        "# Define control inputs (motor speeds or thrust values)\n",
        "w1 = 0.8  # Motor speed for rotor 1\n",
        "w2 = 0.6  # Motor speed for rotor 2\n",
        "w3 = 0.7  # Motor speed for rotor 3\n",
        "w4 = 0.9  # Motor speed for rotor 4\n",
        "\n",
        "\n",
        "a = np.array([0, 0, -g]) + (1/m) * (kF * (w1 + w2 + w3 + w4))\n",
        "print(a)"
      ],
      "metadata": {
        "id": "z-40WwFUEYqb"
      },
      "execution_count": null,
      "outputs": []
    },
    {
      "cell_type": "code",
      "source": [
        "Ixx=0.7\n",
        "Iyy=0.8\n",
        "Izz=0.2\n",
        "kM=1.2\n",
        "alpha = np.array([(1/Ixx) * L * (kF * (w2 - w4)),\n",
        "                  (1/Iyy) * L * (kF * (w1 - w3)),\n",
        "                  (-1/Izz) * kM * (w1 - w2 + w3 - w4)])\n",
        "print(alpha)\n"
      ],
      "metadata": {
        "id": "6vlhUGSCEato"
      },
      "execution_count": null,
      "outputs": []
    },
    {
      "cell_type": "markdown",
      "source": [
        "\n",
        "In this equation, alpha represents the angular acceleration vector in the roll, pitch, and yaw directions, Ixx, Iyy, and Izz are the moments of inertia about the principal axes, L is the moment arm, kF is the thrust factor, kM is a constant related to the moment produced by the rotors, and w1, w2, w3, and w4 are the motor speeds or thrust values for the four rotors.\n",
        "\n",
        "These dynamic equations describe the quadrotor's linear and angular accelerations based on the control inputs and physical parameters. By integrating these equations over time using numerical methods, we can simulate the quadrotor's motion in the simulation.\n",
        "\n",
        "\n"
      ],
      "metadata": {
        "id": "V7AcpmvEEsjy"
      }
    },
    {
      "cell_type": "markdown",
      "source": [
        "#Task#3"
      ],
      "metadata": {
        "id": "iYtoUarB4L6Q"
      }
    },
    {
      "cell_type": "markdown",
      "source": [
        "Deerive a PID controller for the attitude control of a quadrorotor and use simulations to demibstrate the very large region of stability of the controller"
      ],
      "metadata": {
        "id": "AxOY5o-34TCz"
      }
    },
    {
      "cell_type": "markdown",
      "source": [
        "Here are few example our own implementations of this controller.\n",
        "\n",
        "* https://youtu.be/6E9WDQNVSYA\n",
        "* https://youtu.be/uUKxXImRMOA\n",
        "* https://youtu.be/zq05N8m_9SA\n",
        "* https://youtu.be/J5dThZGZN2g\n",
        "* https://youtu.be/J5MMp6Be3tU\n",
        "* https://youtu.be/6ZQgE1FI6Wc"
      ],
      "metadata": {
        "id": "cInu25giFEXw"
      }
    },
    {
      "cell_type": "markdown",
      "source": [
        "#Task#4"
      ],
      "metadata": {
        "id": "o6XRW2MR4nVw"
      }
    },
    {
      "cell_type": "markdown",
      "source": [
        "Derive a specialization of the controller develoed in Task#3 for the problem of stabilzing an inverted pendulum on a cart."
      ],
      "metadata": {
        "id": "u9vdw-yM4rem"
      }
    },
    {
      "cell_type": "markdown",
      "source": [
        "#Task#5"
      ],
      "metadata": {
        "id": "jkEiEv8sEPhG"
      }
    },
    {
      "cell_type": "markdown",
      "source": [
        " Experimentally verify the stability properties of the controller derived in Task#5 using the experimental setup available in the applied mechanics lab."
      ],
      "metadata": {
        "id": "w2WRdKSTEQ7i"
      }
    }
  ]
}